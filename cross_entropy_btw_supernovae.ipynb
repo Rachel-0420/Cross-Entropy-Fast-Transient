{
  "cells": [
    {
      "cell_type": "markdown",
      "metadata": {
        "colab_type": "text",
        "id": "view-in-github"
      },
      "source": [
        "<a href=\"https://colab.research.google.com/github/Rachel-0420/Cross-Entropy-Fast-Transient/blob/real-data/cross_entropy_btw_supernovae.ipynb\" target=\"_parent\"><img src=\"https://colab.research.google.com/assets/colab-badge.svg\" alt=\"Open In Colab\"/></a>"
      ]
    },
    {
      "cell_type": "code",
      "execution_count": 4,
      "metadata": {
        "collapsed": true,
        "id": "UOPa0lzRgSmB"
      },
      "outputs": [],
      "source": [
        "import numpy as np\n",
        "import pickle\n",
        "import matplotlib.pyplot as plt\n",
        "# import os\n",
        "# !pip install --upgrade \"jax[cuda]\" -f https://storage.googleapis.com/jax-releases/jax_cuda_releases.html\n",
        "# !pip install astropy pzflow corner\n",
        "# from pzflow import Flow\n",
        "# import jax.numpy as jnp\n",
        "# import pandas as pd\n",
        "# import corner\n",
        "# import os\n",
        "# from astropy.table import Table\n",
        "# from pzflow import Flow, FlowEnsemble\n",
        "# # from pzflow.distributions import Uniform\n",
        "# from pzflow.bijectors import Chain, StandardScaler, NeuralSplineCoupling, ColorTransform, InvSoftplus, RollingSplineCoupling, ShiftBounds\n",
        "# from collections import namedtuple\n",
        "# import scipy.stats as sps"
      ]
    },
    {
      "cell_type": "code",
      "execution_count": 2,
      "metadata": {
        "id": "YW0PP-D7BDba"
      },
      "outputs": [],
      "source": [
        "# Paths for the Probability Cubes of some transient classes\n",
        "# SNII and SNIbc are both supernovae and are similar. AGN is very different from the other two\n",
        "\n",
        "data1 = \"/Users/rachelouyang/Desktop/Research/24 Summer Research/ProbCube_Data/ProbCube_1229_1815__SNII-Templates.pkl\"\n",
        "data2 = \"/Users/rachelouyang/Desktop/Research/24 Summer Research/ProbCube_Data/ProbCube_1229_0821__SNIbc-Templates.pkl\"\n",
        "data3 = \"/Users/rachelouyang/Desktop/Research/24 Summer Research/ProbCube_Data/ProbCube_1229_1819__AGN.pkl\""
      ]
    },
    {
      "cell_type": "code",
      "execution_count": 5,
      "metadata": {
        "id": "4O7xMpFqEqTR"
      },
      "outputs": [],
      "source": [
        "with open(data1, 'rb') as f1:\n",
        "    CoordinateDict1 = pickle.load(f1)\n",
        "    Data1 = pickle.load(f1)\n",
        "\n",
        "with open(data2, 'rb') as f2:\n",
        "    CoordinateDict2 = pickle.load(f2)\n",
        "    Data2 = pickle.load(f2)\n",
        "\n",
        "with open(data3, 'rb') as f3:\n",
        "    CoordinateDict3 = pickle.load(f3)\n",
        "    Data3 = pickle.load(f3)"
      ]
    },
    {
      "cell_type": "code",
      "execution_count": 31,
      "metadata": {},
      "outputs": [],
      "source": [
        "arr_2 = np.array(Data2, dtype=float)\n",
        "shape = arr_2.shape\n",
        "print(shape)"
      ]
    },
    {
      "cell_type": "code",
      "execution_count": 29,
      "metadata": {
        "colab": {
          "base_uri": "https://localhost:8080/"
        },
        "collapsed": true,
        "id": "iesf5oetUrFf",
        "outputId": "1814f965-60be-4ce6-dbc4-49a78be9b3dc"
      },
      "outputs": [],
      "source": [
        "# Data2.astype(float)"
      ]
    },
    {
      "cell_type": "code",
      "execution_count": 30,
      "metadata": {
        "colab": {
          "base_uri": "https://localhost:8080/"
        },
        "id": "y1Nv-EHh5Kq_",
        "outputId": "290f4e6e-acc8-42a1-8615-de9b7cbe98b3"
      },
      "outputs": [
        {
          "name": "stdout",
          "output_type": "stream",
          "text": [
            "28\n",
            "65\n",
            "67\n",
            "4355\n",
            "111\n",
            "39\n"
          ]
        }
      ],
      "source": [
        "#interpretation of the shape of Data\n",
        "\n",
        "print(len(CoordinateDict2['BandPairs']))\n",
        "print(len(CoordinateDict2['dT1s']))\n",
        "print(len(CoordinateDict2['dT2s']))\n",
        "print(len(CoordinateDict2['dT1s']) * len(CoordinateDict2['dT2s']))\n",
        "print(len(CoordinateDict2['BinMag']))\n",
        "print(len(CoordinateDict2['BinColor']))"
      ]
    },
    {
      "cell_type": "code",
      "execution_count": 28,
      "metadata": {},
      "outputs": [
        {
          "name": "stdout",
          "output_type": "stream",
          "text": [
            "True\n"
          ]
        }
      ],
      "source": [
        "# Test of numpy sum function on high-D arrays\n",
        "\n",
        "test_arr = np.array([[[1,2,3,4],[2,3,4,5],[3,3,3,3]],[[1,2,3,4],[2,3,4,5],[3,3,3,3]],[[1,2,3,4],[2,3,4,5],[3,3,3,3]],[[1,2,3,4],[2,3,4,5],[3,3,3,3]]])\n",
        "\n",
        "total_1 = np.sum(test_arr)\n",
        "\n",
        "total_2 = 0\n",
        "\n",
        "for i in range(test_arr.shape[0]):\n",
        "    for j in range(test_arr.shape[1]):\n",
        "        for k in range(test_arr.shape[2]):\n",
        "            total_2 += test_arr[i][j][k]\n",
        "\n",
        "print(total_1 == total_2)"
      ]
    },
    {
      "cell_type": "code",
      "execution_count": 7,
      "metadata": {
        "id": "MxzI18B8f57O"
      },
      "outputs": [],
      "source": [
        "def normalize(data):\n",
        "\n",
        "  total = np.sum(data)\n",
        "\n",
        "  factor = 1 / total\n",
        "\n",
        "  for i in range(shape[0]):\n",
        "    for j in range(shape[1]):\n",
        "      for k in range(shape[2]):\n",
        "        for l in range(shape[3]):\n",
        "          data[i][j][k][l] *= factor\n",
        "\n",
        "  return None"
      ]
    },
    {
      "cell_type": "code",
      "execution_count": 8,
      "metadata": {
        "id": "7-7fKNFRg5nb"
      },
      "outputs": [],
      "source": [
        "normalize(Data1)\n",
        "normalize(Data2)\n",
        "normalize(Data3)"
      ]
    },
    {
      "cell_type": "code",
      "execution_count": 32,
      "metadata": {
        "colab": {
          "base_uri": "https://localhost:8080/"
        },
        "id": "8-TqlSAbmL22",
        "outputId": "3e5086f5-cb5a-4983-c054-51a320af2b79"
      },
      "outputs": [],
      "source": [
        "# CoordinateDict1"
      ]
    },
    {
      "cell_type": "code",
      "execution_count": null,
      "metadata": {
        "colab": {
          "base_uri": "https://localhost:8080/"
        },
        "id": "uPpBU2I5U97U",
        "outputId": "91d3b0a8-45e4-4e2a-f033-b6b96098109f"
      },
      "outputs": [
        {
          "name": "stdout",
          "output_type": "stream",
          "text": [
            "(408921098, 12774022, 421695120)\n",
            "(420485763, 1209357, 421695120)\n"
          ]
        }
      ],
      "source": [
        "count_nonzero1 = np.sum(Data1 != 0)\n",
        "count_01 = np.sum(Data1 == 0)\n",
        "print((count_01, count_nonzero1, count_01 + count_nonzero1))\n",
        "\n",
        "count_nonzero3 = np.sum(Data3 != 0)\n",
        "count_03 = np.sum(Data3 == 0)\n",
        "print((count_03, count_nonzero3, count_03 + count_nonzero3))"
      ]
    },
    {
      "cell_type": "code",
      "execution_count": null,
      "metadata": {
        "colab": {
          "base_uri": "https://localhost:8080/"
        },
        "id": "aahjvWDmkn1u",
        "outputId": "39113ddc-265e-44a7-c0aa-189200086d8d"
      },
      "outputs": [
        {
          "name": "stdout",
          "output_type": "stream",
          "text": [
            "28\n"
          ]
        }
      ],
      "source": [
        "print(len(Data2))"
      ]
    },
    {
      "cell_type": "code",
      "execution_count": 9,
      "metadata": {
        "id": "5sYIQBxLktqm"
      },
      "outputs": [],
      "source": [
        "part1 = Data2[:10]\n",
        "part2 = Data2[10:20]\n",
        "part3 = Data2[20:]"
      ]
    },
    {
      "cell_type": "code",
      "execution_count": 10,
      "metadata": {
        "id": "5rpjc1ySlCoA"
      },
      "outputs": [],
      "source": [
        "part1[np.where(part1 == 0.)] = 1.e-16"
      ]
    },
    {
      "cell_type": "code",
      "execution_count": 11,
      "metadata": {
        "id": "REiL2FU_lZHL"
      },
      "outputs": [],
      "source": [
        "part2[np.where(part2 == 0.)] = 1.e-16"
      ]
    },
    {
      "cell_type": "code",
      "execution_count": 12,
      "metadata": {
        "id": "bqTxkGzsAHhp"
      },
      "outputs": [],
      "source": [
        "part3[np.where(part3 == 0.)] = 1.e-16"
      ]
    },
    {
      "cell_type": "code",
      "execution_count": 13,
      "metadata": {
        "id": "4q7pkqepm_9A"
      },
      "outputs": [],
      "source": [
        "for i in range(len(part1)):\n",
        "  Data2[i] = part1[i]\n",
        "  Data2[10+i] = part2[i]\n",
        "\n",
        "for j in range(len(part3)):\n",
        "  Data2[20+j] = part3[j]"
      ]
    },
    {
      "cell_type": "code",
      "execution_count": 14,
      "metadata": {
        "id": "MYIwBik1mi_d"
      },
      "outputs": [],
      "source": [
        "del part1\n",
        "del part2\n",
        "del part3"
      ]
    },
    {
      "cell_type": "code",
      "execution_count": 15,
      "metadata": {
        "colab": {
          "base_uri": "https://localhost:8080/"
        },
        "id": "HIc3cVe3mnIp",
        "outputId": "950fd7cf-7b22-444e-dd01-695e2859a96e"
      },
      "outputs": [
        {
          "name": "stderr",
          "output_type": "stream",
          "text": [
            "<ipython-input-15-f9dd387c4ab2>:1: RuntimeWarning: divide by zero encountered in log\n",
            "  H1 = Data1 * np.log(Data2)\n",
            "<ipython-input-15-f9dd387c4ab2>:1: RuntimeWarning: invalid value encountered in multiply\n",
            "  H1 = Data1 * np.log(Data2)\n"
          ]
        }
      ],
      "source": [
        "H1 = Data1 * np.log(Data2)"
      ]
    },
    {
      "cell_type": "code",
      "execution_count": 28,
      "metadata": {
        "id": "uFaD6cvgn6YR"
      },
      "outputs": [],
      "source": [
        "del H1\n",
        "del Data1\n",
        "del Data2"
      ]
    }
  ],
  "metadata": {
    "colab": {
      "include_colab_link": true,
      "name": "Welcome To Colab",
      "provenance": [],
      "toc_visible": true
    },
    "kernelspec": {
      "display_name": "Python 3",
      "name": "python3"
    },
    "language_info": {
      "codemirror_mode": {
        "name": "ipython",
        "version": 3
      },
      "file_extension": ".py",
      "mimetype": "text/x-python",
      "name": "python",
      "nbconvert_exporter": "python",
      "pygments_lexer": "ipython3",
      "version": "3.13.0"
    }
  },
  "nbformat": 4,
  "nbformat_minor": 0
}
