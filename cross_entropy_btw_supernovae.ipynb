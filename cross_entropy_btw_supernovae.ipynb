{
  "cells": [
    {
      "cell_type": "markdown",
      "metadata": {
        "id": "view-in-github",
        "colab_type": "text"
      },
      "source": [
        "<a href=\"https://colab.research.google.com/github/Rachel-0420/Cross-Entropy-Fast-Transient/blob/real-data/cross_entropy_btw_supernovae.ipynb\" target=\"_parent\"><img src=\"https://colab.research.google.com/assets/colab-badge.svg\" alt=\"Open In Colab\"/></a>"
      ]
    },
    {
      "cell_type": "code",
      "source": [
        "# !pip install --upgrade \"jax[cuda]\" -f https://storage.googleapis.com/jax-releases/jax_cuda_releases.html\n",
        "# !pip install astropy pzflow corner\n",
        "\n",
        "# from pzflow import Flow\n",
        "# import jax.numpy as jnp\n",
        "# import pandas as pd\n",
        "import numpy as np\n",
        "import pickle\n",
        "# import corner\n",
        "import matplotlib.pyplot as plt\n",
        "# import os\n",
        "# from astropy.table import Table\n",
        "# from pzflow import Flow, FlowEnsemble\n",
        "# # from pzflow.distributions import Uniform\n",
        "# from pzflow.bijectors import Chain, StandardScaler, NeuralSplineCoupling, ColorTransform, InvSoftplus, RollingSplineCoupling, ShiftBounds\n",
        "# from collections import namedtuple\n",
        "\n",
        "# import scipy.stats as sps"
      ],
      "metadata": {
        "collapsed": true,
        "id": "UOPa0lzRgSmB"
      },
      "execution_count": 1,
      "outputs": []
    },
    {
      "cell_type": "code",
      "source": [
        "from google.colab import drive\n",
        "drive.mount('/content/drive')"
      ],
      "metadata": {
        "colab": {
          "base_uri": "https://localhost:8080/"
        },
        "id": "fDWY7G441fHM",
        "outputId": "0f6fd7e2-74a2-4813-b04a-5de836ebbe66"
      },
      "execution_count": 2,
      "outputs": [
        {
          "output_type": "stream",
          "name": "stdout",
          "text": [
            "Mounted at /content/drive\n"
          ]
        }
      ]
    },
    {
      "cell_type": "code",
      "source": [
        "# Paths for the Probability Cubes of some transient classes\n",
        "# SNII and SNIbc are both supernovae and are similar. AGN is very different from the other two\n",
        "\n",
        "data1 = \"/content/drive/MyDrive/Datacubes/FullRunTest_1000ObjNo/ProbCube_1229_1815__SNII-Templates.pkl\"\n",
        "data2 = \"/content/drive/MyDrive/Datacubes/FullRunTest_1000ObjNo/ProbCube_1229_0821__SNIbc-Templates.pkl\"\n",
        "# data3 = \"/content/drive/MyDrive/Datacubes/FullRunTest_1000ObjNo/ProbCube_1229_1819__AGN.pkl\""
      ],
      "metadata": {
        "id": "YW0PP-D7BDba"
      },
      "execution_count": 3,
      "outputs": []
    },
    {
      "cell_type": "code",
      "source": [
        "with open(data1, 'rb') as f1:\n",
        "    CoordinateDict1 = pickle.load(f1)\n",
        "    Data1 = pickle.load(f1)\n",
        "\n",
        "with open(data2, 'rb') as f2:\n",
        "    CoordinateDict2 = pickle.load(f2)\n",
        "    Data2 = pickle.load(f2)\n",
        "\n",
        "#with open(data3, 'rb') as f3:\n",
        "#    CoordinateDict3 = pickle.load(f3)\n",
        "#    Data3 = pickle.load(f3)"
      ],
      "metadata": {
        "id": "4O7xMpFqEqTR"
      },
      "execution_count": 4,
      "outputs": []
    },
    {
      "cell_type": "code",
      "source": [
        "Data2.astype(float)"
      ],
      "metadata": {
        "colab": {
          "base_uri": "https://localhost:8080/"
        },
        "collapsed": true,
        "id": "iesf5oetUrFf",
        "outputId": "1814f965-60be-4ce6-dbc4-49a78be9b3dc"
      },
      "execution_count": 5,
      "outputs": [
        {
          "output_type": "execute_result",
          "data": {
            "text/plain": [
              "array([[[[0., 0., 0., ..., 0., 0., 0.],\n",
              "         [0., 0., 0., ..., 0., 0., 0.],\n",
              "         [0., 0., 0., ..., 0., 0., 0.],\n",
              "         ...,\n",
              "         [0., 0., 0., ..., 0., 0., 0.],\n",
              "         [0., 0., 0., ..., 0., 0., 0.],\n",
              "         [0., 0., 0., ..., 0., 0., 0.]],\n",
              "\n",
              "        [[0., 0., 0., ..., 0., 0., 0.],\n",
              "         [0., 0., 0., ..., 0., 0., 0.],\n",
              "         [0., 0., 0., ..., 0., 0., 0.],\n",
              "         ...,\n",
              "         [0., 0., 0., ..., 0., 0., 0.],\n",
              "         [0., 0., 0., ..., 0., 0., 0.],\n",
              "         [0., 0., 0., ..., 0., 0., 0.]],\n",
              "\n",
              "        [[0., 0., 0., ..., 0., 0., 0.],\n",
              "         [0., 0., 0., ..., 0., 0., 0.],\n",
              "         [0., 0., 0., ..., 0., 0., 0.],\n",
              "         ...,\n",
              "         [0., 0., 0., ..., 0., 0., 0.],\n",
              "         [0., 0., 0., ..., 0., 0., 0.],\n",
              "         [0., 0., 0., ..., 0., 0., 0.]],\n",
              "\n",
              "        ...,\n",
              "\n",
              "        [[0., 0., 0., ..., 0., 0., 0.],\n",
              "         [0., 0., 0., ..., 0., 0., 0.],\n",
              "         [0., 0., 0., ..., 0., 0., 0.],\n",
              "         ...,\n",
              "         [0., 0., 0., ..., 0., 0., 0.],\n",
              "         [0., 0., 0., ..., 0., 0., 0.],\n",
              "         [0., 0., 0., ..., 0., 0., 0.]],\n",
              "\n",
              "        [[0., 0., 0., ..., 0., 0., 0.],\n",
              "         [0., 0., 0., ..., 0., 0., 0.],\n",
              "         [0., 0., 0., ..., 0., 0., 0.],\n",
              "         ...,\n",
              "         [0., 0., 0., ..., 0., 0., 0.],\n",
              "         [0., 0., 0., ..., 0., 0., 0.],\n",
              "         [0., 0., 0., ..., 0., 0., 0.]],\n",
              "\n",
              "        [[0., 0., 0., ..., 0., 0., 0.],\n",
              "         [0., 0., 0., ..., 0., 0., 0.],\n",
              "         [0., 0., 0., ..., 0., 0., 0.],\n",
              "         ...,\n",
              "         [0., 0., 0., ..., 0., 0., 0.],\n",
              "         [0., 0., 0., ..., 0., 0., 0.],\n",
              "         [0., 0., 0., ..., 0., 0., 0.]]],\n",
              "\n",
              "\n",
              "       [[[0., 0., 0., ..., 0., 0., 0.],\n",
              "         [0., 0., 0., ..., 0., 0., 0.],\n",
              "         [0., 0., 0., ..., 0., 0., 0.],\n",
              "         ...,\n",
              "         [0., 0., 0., ..., 0., 0., 0.],\n",
              "         [0., 0., 0., ..., 0., 0., 0.],\n",
              "         [0., 0., 0., ..., 0., 0., 0.]],\n",
              "\n",
              "        [[0., 0., 0., ..., 0., 0., 0.],\n",
              "         [0., 0., 0., ..., 0., 0., 0.],\n",
              "         [0., 0., 0., ..., 0., 0., 0.],\n",
              "         ...,\n",
              "         [0., 0., 0., ..., 0., 0., 0.],\n",
              "         [0., 0., 0., ..., 0., 0., 0.],\n",
              "         [0., 0., 0., ..., 0., 0., 0.]],\n",
              "\n",
              "        [[0., 0., 0., ..., 0., 0., 0.],\n",
              "         [0., 0., 0., ..., 0., 0., 0.],\n",
              "         [0., 0., 0., ..., 0., 0., 0.],\n",
              "         ...,\n",
              "         [0., 0., 0., ..., 0., 0., 0.],\n",
              "         [0., 0., 0., ..., 0., 0., 0.],\n",
              "         [0., 0., 0., ..., 0., 0., 0.]],\n",
              "\n",
              "        ...,\n",
              "\n",
              "        [[0., 0., 0., ..., 0., 0., 0.],\n",
              "         [0., 0., 0., ..., 0., 0., 0.],\n",
              "         [0., 0., 0., ..., 0., 0., 0.],\n",
              "         ...,\n",
              "         [0., 0., 0., ..., 0., 0., 0.],\n",
              "         [0., 0., 0., ..., 0., 0., 0.],\n",
              "         [0., 0., 0., ..., 0., 0., 0.]],\n",
              "\n",
              "        [[0., 0., 0., ..., 0., 0., 0.],\n",
              "         [0., 0., 0., ..., 0., 0., 0.],\n",
              "         [0., 0., 0., ..., 0., 0., 0.],\n",
              "         ...,\n",
              "         [0., 0., 0., ..., 0., 0., 0.],\n",
              "         [0., 0., 0., ..., 0., 0., 0.],\n",
              "         [0., 0., 0., ..., 0., 0., 0.]],\n",
              "\n",
              "        [[0., 0., 0., ..., 0., 0., 0.],\n",
              "         [0., 0., 0., ..., 0., 0., 0.],\n",
              "         [0., 0., 0., ..., 0., 0., 0.],\n",
              "         ...,\n",
              "         [0., 0., 0., ..., 0., 0., 0.],\n",
              "         [0., 0., 0., ..., 0., 0., 0.],\n",
              "         [0., 0., 0., ..., 0., 0., 0.]]],\n",
              "\n",
              "\n",
              "       [[[0., 0., 0., ..., 0., 0., 0.],\n",
              "         [0., 0., 0., ..., 0., 0., 0.],\n",
              "         [0., 0., 0., ..., 0., 0., 0.],\n",
              "         ...,\n",
              "         [0., 0., 0., ..., 0., 0., 0.],\n",
              "         [0., 0., 0., ..., 0., 0., 0.],\n",
              "         [0., 0., 0., ..., 0., 0., 0.]],\n",
              "\n",
              "        [[0., 0., 0., ..., 0., 0., 0.],\n",
              "         [0., 0., 0., ..., 0., 0., 0.],\n",
              "         [0., 0., 0., ..., 0., 0., 0.],\n",
              "         ...,\n",
              "         [0., 0., 0., ..., 0., 0., 0.],\n",
              "         [0., 0., 0., ..., 0., 0., 0.],\n",
              "         [0., 0., 0., ..., 0., 0., 0.]],\n",
              "\n",
              "        [[0., 0., 0., ..., 0., 0., 0.],\n",
              "         [0., 0., 0., ..., 0., 0., 0.],\n",
              "         [0., 0., 0., ..., 0., 0., 0.],\n",
              "         ...,\n",
              "         [0., 0., 0., ..., 0., 0., 0.],\n",
              "         [0., 0., 0., ..., 0., 0., 0.],\n",
              "         [0., 0., 0., ..., 0., 0., 0.]],\n",
              "\n",
              "        ...,\n",
              "\n",
              "        [[0., 0., 0., ..., 0., 0., 0.],\n",
              "         [0., 0., 0., ..., 0., 0., 0.],\n",
              "         [0., 0., 0., ..., 0., 0., 0.],\n",
              "         ...,\n",
              "         [0., 0., 0., ..., 0., 0., 0.],\n",
              "         [0., 0., 0., ..., 0., 0., 0.],\n",
              "         [0., 0., 0., ..., 0., 0., 0.]],\n",
              "\n",
              "        [[0., 0., 0., ..., 0., 0., 0.],\n",
              "         [0., 0., 0., ..., 0., 0., 0.],\n",
              "         [0., 0., 0., ..., 0., 0., 0.],\n",
              "         ...,\n",
              "         [0., 0., 0., ..., 0., 0., 0.],\n",
              "         [0., 0., 0., ..., 0., 0., 0.],\n",
              "         [0., 0., 0., ..., 0., 0., 0.]],\n",
              "\n",
              "        [[0., 0., 0., ..., 0., 0., 0.],\n",
              "         [0., 0., 0., ..., 0., 0., 0.],\n",
              "         [0., 0., 0., ..., 0., 0., 0.],\n",
              "         ...,\n",
              "         [0., 0., 0., ..., 0., 0., 0.],\n",
              "         [0., 0., 0., ..., 0., 0., 0.],\n",
              "         [0., 0., 0., ..., 0., 0., 0.]]],\n",
              "\n",
              "\n",
              "       ...,\n",
              "\n",
              "\n",
              "       [[[0., 0., 0., ..., 0., 0., 0.],\n",
              "         [0., 0., 0., ..., 0., 0., 0.],\n",
              "         [0., 0., 0., ..., 0., 0., 0.],\n",
              "         ...,\n",
              "         [0., 0., 0., ..., 0., 0., 0.],\n",
              "         [0., 0., 0., ..., 0., 0., 0.],\n",
              "         [0., 0., 0., ..., 0., 0., 0.]],\n",
              "\n",
              "        [[0., 0., 0., ..., 0., 0., 0.],\n",
              "         [0., 0., 0., ..., 0., 0., 0.],\n",
              "         [0., 0., 0., ..., 0., 0., 0.],\n",
              "         ...,\n",
              "         [0., 0., 0., ..., 0., 0., 0.],\n",
              "         [0., 0., 0., ..., 0., 0., 0.],\n",
              "         [0., 0., 0., ..., 0., 0., 0.]],\n",
              "\n",
              "        [[0., 0., 0., ..., 0., 0., 0.],\n",
              "         [0., 0., 0., ..., 0., 0., 0.],\n",
              "         [0., 0., 0., ..., 0., 0., 0.],\n",
              "         ...,\n",
              "         [0., 0., 0., ..., 0., 0., 0.],\n",
              "         [0., 0., 0., ..., 0., 0., 0.],\n",
              "         [0., 0., 0., ..., 0., 0., 0.]],\n",
              "\n",
              "        ...,\n",
              "\n",
              "        [[0., 0., 0., ..., 0., 0., 0.],\n",
              "         [0., 0., 0., ..., 0., 0., 0.],\n",
              "         [0., 0., 0., ..., 0., 0., 0.],\n",
              "         ...,\n",
              "         [0., 0., 0., ..., 0., 0., 0.],\n",
              "         [0., 0., 0., ..., 0., 0., 0.],\n",
              "         [0., 0., 0., ..., 0., 0., 0.]],\n",
              "\n",
              "        [[0., 0., 0., ..., 0., 0., 0.],\n",
              "         [0., 0., 0., ..., 0., 0., 0.],\n",
              "         [0., 0., 0., ..., 0., 0., 0.],\n",
              "         ...,\n",
              "         [0., 0., 0., ..., 0., 0., 0.],\n",
              "         [0., 0., 0., ..., 0., 0., 0.],\n",
              "         [0., 0., 0., ..., 0., 0., 0.]],\n",
              "\n",
              "        [[0., 0., 0., ..., 0., 0., 0.],\n",
              "         [0., 0., 0., ..., 0., 0., 0.],\n",
              "         [0., 0., 0., ..., 0., 0., 0.],\n",
              "         ...,\n",
              "         [0., 0., 0., ..., 0., 0., 0.],\n",
              "         [0., 0., 0., ..., 0., 0., 0.],\n",
              "         [0., 0., 0., ..., 0., 0., 0.]]],\n",
              "\n",
              "\n",
              "       [[[0., 0., 0., ..., 0., 0., 0.],\n",
              "         [0., 0., 0., ..., 0., 0., 0.],\n",
              "         [0., 0., 0., ..., 0., 0., 0.],\n",
              "         ...,\n",
              "         [0., 0., 0., ..., 0., 0., 0.],\n",
              "         [0., 0., 0., ..., 0., 0., 0.],\n",
              "         [0., 0., 0., ..., 0., 0., 0.]],\n",
              "\n",
              "        [[0., 0., 0., ..., 0., 0., 0.],\n",
              "         [0., 0., 0., ..., 0., 0., 0.],\n",
              "         [0., 0., 0., ..., 0., 0., 0.],\n",
              "         ...,\n",
              "         [0., 0., 0., ..., 0., 0., 0.],\n",
              "         [0., 0., 0., ..., 0., 0., 0.],\n",
              "         [0., 0., 0., ..., 0., 0., 0.]],\n",
              "\n",
              "        [[0., 0., 0., ..., 0., 0., 0.],\n",
              "         [0., 0., 0., ..., 0., 0., 0.],\n",
              "         [0., 0., 0., ..., 0., 0., 0.],\n",
              "         ...,\n",
              "         [0., 0., 0., ..., 0., 0., 0.],\n",
              "         [0., 0., 0., ..., 0., 0., 0.],\n",
              "         [0., 0., 0., ..., 0., 0., 0.]],\n",
              "\n",
              "        ...,\n",
              "\n",
              "        [[0., 0., 0., ..., 0., 0., 0.],\n",
              "         [0., 0., 0., ..., 0., 0., 0.],\n",
              "         [0., 0., 0., ..., 0., 0., 0.],\n",
              "         ...,\n",
              "         [0., 0., 0., ..., 0., 0., 0.],\n",
              "         [0., 0., 0., ..., 0., 0., 0.],\n",
              "         [0., 0., 0., ..., 0., 0., 0.]],\n",
              "\n",
              "        [[0., 0., 0., ..., 0., 0., 0.],\n",
              "         [0., 0., 0., ..., 0., 0., 0.],\n",
              "         [0., 0., 0., ..., 0., 0., 0.],\n",
              "         ...,\n",
              "         [0., 0., 0., ..., 0., 0., 0.],\n",
              "         [0., 0., 0., ..., 0., 0., 0.],\n",
              "         [0., 0., 0., ..., 0., 0., 0.]],\n",
              "\n",
              "        [[0., 0., 0., ..., 0., 0., 0.],\n",
              "         [0., 0., 0., ..., 0., 0., 0.],\n",
              "         [0., 0., 0., ..., 0., 0., 0.],\n",
              "         ...,\n",
              "         [0., 0., 0., ..., 0., 0., 0.],\n",
              "         [0., 0., 0., ..., 0., 0., 0.],\n",
              "         [0., 0., 0., ..., 0., 0., 0.]]],\n",
              "\n",
              "\n",
              "       [[[0., 0., 0., ..., 0., 0., 0.],\n",
              "         [0., 0., 0., ..., 0., 0., 0.],\n",
              "         [0., 0., 0., ..., 0., 0., 0.],\n",
              "         ...,\n",
              "         [0., 0., 0., ..., 0., 0., 0.],\n",
              "         [0., 0., 0., ..., 0., 0., 0.],\n",
              "         [0., 0., 0., ..., 0., 0., 0.]],\n",
              "\n",
              "        [[0., 0., 0., ..., 0., 0., 0.],\n",
              "         [0., 0., 0., ..., 0., 0., 0.],\n",
              "         [0., 0., 0., ..., 0., 0., 0.],\n",
              "         ...,\n",
              "         [0., 0., 0., ..., 0., 0., 0.],\n",
              "         [0., 0., 0., ..., 0., 0., 0.],\n",
              "         [0., 0., 0., ..., 0., 0., 0.]],\n",
              "\n",
              "        [[0., 0., 0., ..., 0., 0., 0.],\n",
              "         [0., 0., 0., ..., 0., 0., 0.],\n",
              "         [0., 0., 0., ..., 0., 0., 0.],\n",
              "         ...,\n",
              "         [0., 0., 0., ..., 0., 0., 0.],\n",
              "         [0., 0., 0., ..., 0., 0., 0.],\n",
              "         [0., 0., 0., ..., 0., 0., 0.]],\n",
              "\n",
              "        ...,\n",
              "\n",
              "        [[0., 0., 0., ..., 0., 0., 0.],\n",
              "         [0., 0., 0., ..., 0., 0., 0.],\n",
              "         [0., 0., 0., ..., 0., 0., 0.],\n",
              "         ...,\n",
              "         [0., 0., 0., ..., 0., 0., 0.],\n",
              "         [0., 0., 0., ..., 0., 0., 0.],\n",
              "         [0., 0., 0., ..., 0., 0., 0.]],\n",
              "\n",
              "        [[0., 0., 0., ..., 0., 0., 0.],\n",
              "         [0., 0., 0., ..., 0., 0., 0.],\n",
              "         [0., 0., 0., ..., 0., 0., 0.],\n",
              "         ...,\n",
              "         [0., 0., 0., ..., 0., 0., 0.],\n",
              "         [0., 0., 0., ..., 0., 0., 0.],\n",
              "         [0., 0., 0., ..., 0., 0., 0.]],\n",
              "\n",
              "        [[0., 0., 0., ..., 0., 0., 0.],\n",
              "         [0., 0., 0., ..., 0., 0., 0.],\n",
              "         [0., 0., 0., ..., 0., 0., 0.],\n",
              "         ...,\n",
              "         [0., 0., 0., ..., 0., 0., 0.],\n",
              "         [0., 0., 0., ..., 0., 0., 0.],\n",
              "         [0., 0., 0., ..., 0., 0., 0.]]]])"
            ]
          },
          "metadata": {},
          "execution_count": 5
        }
      ]
    },
    {
      "cell_type": "code",
      "source": [
        "print(Data1.shape)\n",
        "print(Data2.shape)\n",
        "shape = Data2.shape"
      ],
      "metadata": {
        "id": "x6Y5-Z6r6dRd",
        "outputId": "aefb542d-9729-4ff9-88cb-b8a32ab2234b",
        "colab": {
          "base_uri": "https://localhost:8080/"
        }
      },
      "execution_count": 6,
      "outputs": [
        {
          "output_type": "stream",
          "name": "stdout",
          "text": [
            "(28, 3603, 110, 38)\n",
            "(28, 3603, 110, 38)\n"
          ]
        }
      ]
    },
    {
      "cell_type": "code",
      "source": [
        "print(len(CoordinateDict2['BandPairs']))\n",
        "print(len(CoordinateDict2['dT1s']))\n",
        "print(len(CoordinateDict2['dT2s']))\n",
        "print(len(CoordinateDict2['dT1s']) * len(CoordinateDict2['dT2s']))\n",
        "print(len(CoordinateDict2['BinMag']))\n",
        "print(len(CoordinateDict2['BinColor']))"
      ],
      "metadata": {
        "id": "y1Nv-EHh5Kq_",
        "outputId": "290f4e6e-acc8-42a1-8615-de9b7cbe98b3",
        "colab": {
          "base_uri": "https://localhost:8080/"
        }
      },
      "execution_count": 11,
      "outputs": [
        {
          "output_type": "stream",
          "name": "stdout",
          "text": [
            "28\n",
            "65\n",
            "67\n",
            "4355\n",
            "111\n",
            "39\n"
          ]
        }
      ]
    },
    {
      "cell_type": "code",
      "source": [
        "def normalize(data):\n",
        "\n",
        "  total = 0\n",
        "\n",
        "  for i in range(shape[0]):\n",
        "    for j in range(shape[1]):\n",
        "      for k in range(shape[2]):\n",
        "        for l in range(shape[3]):\n",
        "          total += data[i][j][k][l]\n",
        "\n",
        "  factor = 1 / total\n",
        "\n",
        "  for i in range(shape[0]):\n",
        "    for j in range(shape[1]):\n",
        "      for k in range(shape[2]):\n",
        "        for l in range(shape[3]):\n",
        "          data[i][j][k][l] *= factor\n",
        "\n",
        "  return None"
      ],
      "metadata": {
        "id": "MxzI18B8f57O"
      },
      "execution_count": 7,
      "outputs": []
    },
    {
      "cell_type": "code",
      "source": [
        "normalize(Data1)\n",
        "normalize(Data2)"
      ],
      "metadata": {
        "id": "7-7fKNFRg5nb"
      },
      "execution_count": 8,
      "outputs": []
    },
    {
      "cell_type": "code",
      "source": [
        "CoordinateDict1"
      ],
      "metadata": {
        "id": "8-TqlSAbmL22",
        "outputId": "3e5086f5-cb5a-4983-c054-51a320af2b79",
        "colab": {
          "base_uri": "https://localhost:8080/"
        }
      },
      "execution_count": null,
      "outputs": [
        {
          "output_type": "execute_result",
          "data": {
            "text/plain": [
              "{'EventName': 'SNII-Templates',\n",
              " 'PointsPerDay': 1,\n",
              " 'ObjectNo': 1000,\n",
              " 'BandPairs': ['ug',\n",
              "  'ur',\n",
              "  'ui',\n",
              "  'uz',\n",
              "  'gu',\n",
              "  'gr',\n",
              "  'gi',\n",
              "  'gz',\n",
              "  'gy',\n",
              "  'ru',\n",
              "  'rg',\n",
              "  'ri',\n",
              "  'rz',\n",
              "  'ry',\n",
              "  'iu',\n",
              "  'ig',\n",
              "  'ir',\n",
              "  'iz',\n",
              "  'iy',\n",
              "  'zu',\n",
              "  'zg',\n",
              "  'zr',\n",
              "  'zi',\n",
              "  'zy',\n",
              "  'yg',\n",
              "  'yr',\n",
              "  'yi',\n",
              "  'yz'],\n",
              " 'dT1s': array([-480, -465, -450, -435, -420, -405, -390, -375, -360, -345, -330,\n",
              "        -315, -300, -285, -270, -255, -240, -225, -210, -195, -180, -165,\n",
              "        -150, -135, -120, -105,  -90,  -75,  -60,  -45,  -30,  -15,    0,\n",
              "          15,   30,   45,   60,   75,   90,  105,  120,  135,  150,  165,\n",
              "         180,  195,  210,  225,  240,  255,  270,  285,  300,  315,  330,\n",
              "         345,  360,  375,  390,  405,  420,  435,  450,  465,  480]),\n",
              " 'dT2s': array([-1920, -1890, -1860, -1830, -1800, -1770, -1740, -1710, -1680,\n",
              "        -1650, -1620, -1590, -1560, -1530, -1500, -1470, -1440,  -480,\n",
              "         -450,  -420,  -390,  -360,  -330,  -300,  -270,  -240,  -210,\n",
              "         -180,  -150,  -120,   -90,   -60,   -30,     0,    30,    60,\n",
              "           90,   120,   150,   180,   210,   240,   270,   300,   330,\n",
              "          360,   390,   420,   450,   480,  1440,  1470,  1500,  1530,\n",
              "         1560,  1590,  1620,  1650,  1680,  1710,  1740,  1770,  1800,\n",
              "         1830,  1860,  1890,  1920]),\n",
              " 'BinMag': array([-5.05, -4.95, -4.85, -4.75, -4.65, -4.55, -4.45, -4.35, -4.25,\n",
              "        -4.15, -4.05, -3.95, -3.85, -3.75, -3.65, -3.55, -3.45, -3.35,\n",
              "        -3.25, -3.15, -3.05, -2.95, -2.85, -2.75, -2.65, -2.55, -2.45,\n",
              "        -2.35, -2.25, -2.15, -2.05, -1.95, -1.85, -1.75, -1.65, -1.55,\n",
              "        -1.45, -1.35, -1.25, -1.15, -1.05, -0.95, -0.85, -0.75, -0.65,\n",
              "        -0.55, -0.45, -0.35, -0.25, -0.15, -0.05,  0.05,  0.15,  0.25,\n",
              "         0.35,  0.45,  0.55,  0.65,  0.75,  0.85,  0.95,  1.05,  1.15,\n",
              "         1.25,  1.35,  1.45,  1.55,  1.65,  1.75,  1.85,  1.95,  2.05,\n",
              "         2.15,  2.25,  2.35,  2.45,  2.55,  2.65,  2.75,  2.85,  2.95,\n",
              "         3.05,  3.15,  3.25,  3.35,  3.45,  3.55,  3.65,  3.75,  3.85,\n",
              "         3.95,  4.05,  4.15,  4.25,  4.35,  4.45,  4.55,  4.65,  4.75,\n",
              "         4.85,  4.95,  5.05,  5.15,  5.25,  5.35,  5.45,  5.55,  5.65,\n",
              "         5.75,  5.85,  5.95]),\n",
              " 'BinColor': array([-9.25, -8.75, -8.25, -7.75, -7.25, -6.75, -6.25, -5.75, -5.25,\n",
              "        -4.75, -4.25, -3.75, -3.25, -2.75, -2.25, -1.75, -1.25, -0.75,\n",
              "        -0.25,  0.25,  0.75,  1.25,  1.75,  2.25,  2.75,  3.25,  3.75,\n",
              "         4.25,  4.75,  5.25,  5.75,  6.25,  6.75,  7.25,  7.75,  8.25,\n",
              "         8.75,  9.25,  9.75]),\n",
              " 'dMagRange': [-0.904162089031594, 4.116447448737954],\n",
              " 'ColorRange': [-8.25178755246447, 8.129423014791374],\n",
              " 'TimePairs': array([[ -480, -1920],\n",
              "        [ -480, -1890],\n",
              "        [ -480, -1860],\n",
              "        ...,\n",
              "        [  480,  1860],\n",
              "        [  480,  1890],\n",
              "        [  480,  1920]])}"
            ]
          },
          "metadata": {},
          "execution_count": 6
        }
      ]
    },
    {
      "cell_type": "code",
      "source": [
        "np.nonzero(Data1)"
      ],
      "metadata": {
        "id": "36XjZ3G7lz3p",
        "outputId": "a48d7d3d-98f6-4c39-c84c-756eb3476ffa",
        "colab": {
          "base_uri": "https://localhost:8080/"
        }
      },
      "execution_count": null,
      "outputs": [
        {
          "output_type": "execute_result",
          "data": {
            "text/plain": [
              "(array([ 0,  0,  0, ..., 27, 27, 27]),\n",
              " array([   0,    0,    0, ..., 3602, 3602, 3602]),\n",
              " array([41, 41, 41, ..., 76, 77, 88]),\n",
              " array([25, 26, 27, ..., 16, 16, 23]))"
            ]
          },
          "metadata": {},
          "execution_count": 7
        }
      ]
    },
    {
      "cell_type": "code",
      "source": [
        "x = np.nonzero(Data2)"
      ],
      "metadata": {
        "id": "lxw8OLSOl1ly"
      },
      "execution_count": null,
      "outputs": []
    },
    {
      "cell_type": "code",
      "source": [
        "np.where(Data2 != 0)"
      ],
      "metadata": {
        "id": "hh4zeE1xDFsL",
        "outputId": "2760f36d-568b-4708-9cce-184031216841",
        "colab": {
          "base_uri": "https://localhost:8080/"
        }
      },
      "execution_count": null,
      "outputs": [
        {
          "output_type": "execute_result",
          "data": {
            "text/plain": [
              "(array([ 0,  0,  0, ..., 27, 27, 27]),\n",
              " array([   0,    0,    0, ..., 3602, 3602, 3602]),\n",
              " array([37, 38, 40, ..., 68, 68, 71]),\n",
              " array([21, 21, 21, ..., 21, 22, 18]))"
            ]
          },
          "metadata": {},
          "execution_count": 14
        }
      ]
    },
    {
      "cell_type": "code",
      "source": [
        "np.shape(Data2)"
      ],
      "metadata": {
        "id": "ffbReqvOEYd0",
        "outputId": "2398d668-1719-4501-cd82-540e991b2917",
        "colab": {
          "base_uri": "https://localhost:8080/"
        }
      },
      "execution_count": null,
      "outputs": [
        {
          "output_type": "execute_result",
          "data": {
            "text/plain": [
              "(28, 3603, 110, 38)"
            ]
          },
          "metadata": {},
          "execution_count": 15
        }
      ]
    },
    {
      "cell_type": "code",
      "source": [
        "np.shape(x)"
      ],
      "metadata": {
        "id": "rYO-Dxl2Eb_x",
        "outputId": "1dc946ab-846b-4826-f2d9-00f0acae2308",
        "colab": {
          "base_uri": "https://localhost:8080/"
        }
      },
      "execution_count": null,
      "outputs": [
        {
          "output_type": "execute_result",
          "data": {
            "text/plain": [
              "(4, 13741379)"
            ]
          },
          "metadata": {},
          "execution_count": 16
        }
      ]
    },
    {
      "cell_type": "code",
      "source": [
        "help(np.nonzero)"
      ],
      "metadata": {
        "id": "Bj7ZR-oJCi0r",
        "outputId": "c39b7c44-bb8b-4b63-c0e5-e2969cc42c07",
        "colab": {
          "base_uri": "https://localhost:8080/"
        }
      },
      "execution_count": null,
      "outputs": [
        {
          "output_type": "stream",
          "name": "stdout",
          "text": [
            "Help on _ArrayFunctionDispatcher in module numpy:\n",
            "\n",
            "nonzero(a)\n",
            "    Return the indices of the elements that are non-zero.\n",
            "    \n",
            "    Returns a tuple of arrays, one for each dimension of `a`,\n",
            "    containing the indices of the non-zero elements in that\n",
            "    dimension. The values in `a` are always tested and returned in\n",
            "    row-major, C-style order.\n",
            "    \n",
            "    To group the indices by element, rather than dimension, use `argwhere`,\n",
            "    which returns a row for each non-zero element.\n",
            "    \n",
            "    .. note::\n",
            "    \n",
            "       When called on a zero-d array or scalar, ``nonzero(a)`` is treated\n",
            "       as ``nonzero(atleast_1d(a))``.\n",
            "    \n",
            "       .. deprecated:: 1.17.0\n",
            "    \n",
            "          Use `atleast_1d` explicitly if this behavior is deliberate.\n",
            "    \n",
            "    Parameters\n",
            "    ----------\n",
            "    a : array_like\n",
            "        Input array.\n",
            "    \n",
            "    Returns\n",
            "    -------\n",
            "    tuple_of_arrays : tuple\n",
            "        Indices of elements that are non-zero.\n",
            "    \n",
            "    See Also\n",
            "    --------\n",
            "    flatnonzero :\n",
            "        Return indices that are non-zero in the flattened version of the input\n",
            "        array.\n",
            "    ndarray.nonzero :\n",
            "        Equivalent ndarray method.\n",
            "    count_nonzero :\n",
            "        Counts the number of non-zero elements in the input array.\n",
            "    \n",
            "    Notes\n",
            "    -----\n",
            "    While the nonzero values can be obtained with ``a[nonzero(a)]``, it is\n",
            "    recommended to use ``x[x.astype(bool)]`` or ``x[x != 0]`` instead, which\n",
            "    will correctly handle 0-d arrays.\n",
            "    \n",
            "    Examples\n",
            "    --------\n",
            "    >>> x = np.array([[3, 0, 0], [0, 4, 0], [5, 6, 0]])\n",
            "    >>> x\n",
            "    array([[3, 0, 0],\n",
            "           [0, 4, 0],\n",
            "           [5, 6, 0]])\n",
            "    >>> np.nonzero(x)\n",
            "    (array([0, 1, 2, 2]), array([0, 1, 0, 1]))\n",
            "    \n",
            "    >>> x[np.nonzero(x)]\n",
            "    array([3, 4, 5, 6])\n",
            "    >>> np.transpose(np.nonzero(x))\n",
            "    array([[0, 0],\n",
            "           [1, 1],\n",
            "           [2, 0],\n",
            "           [2, 1]])\n",
            "    \n",
            "    A common use for ``nonzero`` is to find the indices of an array, where\n",
            "    a condition is True.  Given an array `a`, the condition `a` > 3 is a\n",
            "    boolean array and since False is interpreted as 0, np.nonzero(a > 3)\n",
            "    yields the indices of the `a` where the condition is true.\n",
            "    \n",
            "    >>> a = np.array([[1, 2, 3], [4, 5, 6], [7, 8, 9]])\n",
            "    >>> a > 3\n",
            "    array([[False, False, False],\n",
            "           [ True,  True,  True],\n",
            "           [ True,  True,  True]])\n",
            "    >>> np.nonzero(a > 3)\n",
            "    (array([1, 1, 1, 2, 2, 2]), array([0, 1, 2, 0, 1, 2]))\n",
            "    \n",
            "    Using this result to index `a` is equivalent to using the mask directly:\n",
            "    \n",
            "    >>> a[np.nonzero(a > 3)]\n",
            "    array([4, 5, 6, 7, 8, 9])\n",
            "    >>> a[a > 3]  # prefer this spelling\n",
            "    array([4, 5, 6, 7, 8, 9])\n",
            "    \n",
            "    ``nonzero`` can also be called as a method of the array.\n",
            "    \n",
            "    >>> (a > 3).nonzero()\n",
            "    (array([1, 1, 1, 2, 2, 2]), array([0, 1, 2, 0, 1, 2]))\n",
            "\n"
          ]
        }
      ]
    },
    {
      "cell_type": "code",
      "source": [
        "count_nonzero1 = np.sum(Data1 != 0)\n",
        "count_01 = np.sum(Data1 == 0)\n",
        "print((count_01, count_nonzero1, count_01 + count_nonzero1))\n",
        "\n",
        "count_nonzero3 = np.sum(Data3 != 0)\n",
        "count_03 = np.sum(Data3 == 0)\n",
        "print((count_03, count_nonzero3, count_03 + count_nonzero3))"
      ],
      "metadata": {
        "colab": {
          "base_uri": "https://localhost:8080/"
        },
        "id": "uPpBU2I5U97U",
        "outputId": "91d3b0a8-45e4-4e2a-f033-b6b96098109f"
      },
      "execution_count": null,
      "outputs": [
        {
          "output_type": "stream",
          "name": "stdout",
          "text": [
            "(408921098, 12774022, 421695120)\n",
            "(420485763, 1209357, 421695120)\n"
          ]
        }
      ]
    },
    {
      "cell_type": "code",
      "source": [
        "x = np.where(Data2 == 0)"
      ],
      "metadata": {
        "id": "sqpnCG-OtHiS"
      },
      "execution_count": null,
      "outputs": []
    },
    {
      "cell_type": "code",
      "source": [
        "Data2[x] = 1e-16"
      ],
      "metadata": {
        "id": "7dT7luBmwY2z"
      },
      "execution_count": null,
      "outputs": []
    },
    {
      "cell_type": "code",
      "source": [
        "print(len(Data2))"
      ],
      "metadata": {
        "colab": {
          "base_uri": "https://localhost:8080/"
        },
        "id": "aahjvWDmkn1u",
        "outputId": "39113ddc-265e-44a7-c0aa-189200086d8d"
      },
      "execution_count": null,
      "outputs": [
        {
          "output_type": "stream",
          "name": "stdout",
          "text": [
            "28\n"
          ]
        }
      ]
    },
    {
      "cell_type": "code",
      "source": [
        "part1 = Data2[:10]\n",
        "part2 = Data2[10:20]\n",
        "part3 = Data2[20:]"
      ],
      "metadata": {
        "id": "5sYIQBxLktqm"
      },
      "execution_count": 9,
      "outputs": []
    },
    {
      "cell_type": "code",
      "source": [
        "part1[np.where(part1 == 0.)] = 1.e-16"
      ],
      "metadata": {
        "id": "5rpjc1ySlCoA"
      },
      "execution_count": 10,
      "outputs": []
    },
    {
      "cell_type": "code",
      "source": [
        "part2[np.where(part2 == 0.)] = 1.e-16"
      ],
      "metadata": {
        "id": "REiL2FU_lZHL"
      },
      "execution_count": 11,
      "outputs": []
    },
    {
      "cell_type": "code",
      "source": [
        "part3[np.where(part3 == 0.)] = 1.e-16"
      ],
      "metadata": {
        "id": "bqTxkGzsAHhp"
      },
      "execution_count": 12,
      "outputs": []
    },
    {
      "cell_type": "code",
      "source": [
        "for i in range(len(part1)):\n",
        "  Data2[i] = part1[i]\n",
        "  Data2[10+i] = part2[i]\n",
        "\n",
        "for j in range(len(part3)):\n",
        "  Data2[20+j] = part3[j]"
      ],
      "metadata": {
        "id": "4q7pkqepm_9A"
      },
      "execution_count": 13,
      "outputs": []
    },
    {
      "cell_type": "code",
      "source": [
        "del part1\n",
        "del part2\n",
        "del part3"
      ],
      "metadata": {
        "id": "MYIwBik1mi_d"
      },
      "execution_count": 14,
      "outputs": []
    },
    {
      "cell_type": "code",
      "source": [
        "H1 = Data1 * np.log(Data2)"
      ],
      "metadata": {
        "colab": {
          "base_uri": "https://localhost:8080/"
        },
        "id": "HIc3cVe3mnIp",
        "outputId": "950fd7cf-7b22-444e-dd01-695e2859a96e"
      },
      "execution_count": 15,
      "outputs": [
        {
          "output_type": "stream",
          "name": "stderr",
          "text": [
            "<ipython-input-15-f9dd387c4ab2>:1: RuntimeWarning: divide by zero encountered in log\n",
            "  H1 = Data1 * np.log(Data2)\n",
            "<ipython-input-15-f9dd387c4ab2>:1: RuntimeWarning: invalid value encountered in multiply\n",
            "  H1 = Data1 * np.log(Data2)\n"
          ]
        }
      ]
    },
    {
      "cell_type": "code",
      "source": [
        "del H1\n",
        "del Data1\n",
        "del Data2"
      ],
      "metadata": {
        "id": "uFaD6cvgn6YR"
      },
      "execution_count": 28,
      "outputs": []
    }
  ],
  "metadata": {
    "colab": {
      "name": "Welcome To Colab",
      "toc_visible": true,
      "provenance": [],
      "include_colab_link": true
    },
    "kernelspec": {
      "display_name": "Python 3",
      "name": "python3"
    }
  },
  "nbformat": 4,
  "nbformat_minor": 0
}